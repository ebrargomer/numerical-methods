{
 "cells": [
  {
   "cell_type": "code",
   "execution_count": 1,
   "metadata": {},
   "outputs": [
    {
     "name": "stdout",
     "output_type": "stream",
     "text": [
      "The root is: 0.7392578125\n",
      "Number of iteration:  10\n"
     ]
    }
   ],
   "source": [
    "#Bisection method: initial guess:x=0 and x=1, stopping criteria:10^-3\n",
    "from math import cos,ceil\n",
    "\n",
    "def bisect(f,x1,x2,epsilon=1.0e-3): \n",
    "    f1 = f(x1) \n",
    "    if f1 == 0.0: return x1 \n",
    "    f2 = f(x2) \n",
    "    if f2 == 0.0: return x2 \n",
    "    i=0\n",
    "    while(True):\n",
    "        i=i+1\n",
    "        x3 = 0.5*(x1 + x2);\n",
    "        f3 = f(x3)\n",
    "        if ceil(f3) == 0.0 and (abs(x3-x2)<epsilon or abs(x3-x1)<epsilon):\n",
    "            return x3,i\n",
    "        if f2*f3 < 0.0: \n",
    "            x1 = x3; f1 = f3 \n",
    "        else: \n",
    "            x2 =x3;  f2 = f3 \n",
    "    \n",
    "def f(x): return cos(x) - x\n",
    "\n",
    "a,b = (0.0, 1.0) \n",
    "x1 = a; f1 = f(a)\n",
    "x2 = b; f2 =f(x2) \n",
    "if f1*f2 > 0.0: \n",
    "    print(\"No root in this interval.\")\n",
    "else:\n",
    "    root,it = bisect(f,x1,x2) \n",
    "    print (\"The root is:\",root)\n",
    "    print(\"Number of iteration: \",it)"
   ]
  },
  {
   "cell_type": "code",
   "execution_count": 22,
   "metadata": {},
   "outputs": [
    {
     "name": "stdout",
     "output_type": "stream",
     "text": [
      "The root is: 0.7391869921623933\n",
      "Number of iteration:  12\n"
     ]
    }
   ],
   "source": [
    "#Bisection method: initial guess:x=0 and x=pi/4, stopping criteria:10^-3\n",
    "from math import cos,ceil,pi\n",
    "\n",
    "def bisect(f,x1,x2,epsilon=1.0e-3): \n",
    "    f1 = f(x1) \n",
    "    if f1 == 0.0: return x1 \n",
    "    f2 = f(x2) \n",
    "    if f2 == 0.0: return x2 \n",
    "    i=0\n",
    "    while(True):\n",
    "        i=i+1\n",
    "        x3 = 0.5*(x1 + x2);\n",
    "        f3 = f(x3)\n",
    "        if ceil(f3) == 0.0 and (abs(x3-x2)<epsilon or abs(x3-x1)<epsilon):\n",
    "            return x3,i\n",
    "        if f2*f3 < 0.0: \n",
    "            x1 = x3; f1 = f3 \n",
    "        else: \n",
    "            x2 =x3;  f2 = f3 \n",
    "    \n",
    "def f(x): return cos(x) - x\n",
    "\n",
    "a,b = (0.0, pi/4) \n",
    "x1 = a; f1 = f(a)\n",
    "x2 = b; f2 =f(x2) \n",
    "if f1*f2 > 0.0: \n",
    "    print(\"No root in this interval.\")\n",
    "else:\n",
    "    root,it = bisect(f,x1,x2) \n",
    "    print (\"The root is:\",root)\n",
    "    print(\"Number of iteration: \",it)"
   ]
  },
  {
   "cell_type": "code",
   "execution_count": 18,
   "metadata": {},
   "outputs": [
    {
     "name": "stdout",
     "output_type": "stream",
     "text": [
      "The root is: 0.7390851335367188\n",
      "Number of iteration:  34\n"
     ]
    }
   ],
   "source": [
    "#Bisection method: initial guess:x=-5 and x=5, stopping criteria:10^-9\n",
    "from math import cos,ceil\n",
    "\n",
    "def bisect(f,x1,x2,epsilon=1.0e-9): \n",
    "    f1 = f(x1) \n",
    "    if f1 == 0.0: return x1 \n",
    "    f2 = f(x2) \n",
    "    if f2 == 0.0: return x2 \n",
    "    i=0\n",
    "    while(True):\n",
    "        i=i+1\n",
    "        x3 = 0.5*(x1 + x2);\n",
    "        f3 = f(x3)\n",
    "        if ceil(f3) == 0.0 and (abs(x3-x2)<epsilon or abs(x3-x1)<epsilon):\n",
    "            return x3,i\n",
    "        if f2*f3 < 0.0: \n",
    "            x1 = x3; f1 = f3 \n",
    "        else: \n",
    "            x2 =x3;  f2 = f3 \n",
    "    \n",
    "def f(x): return cos(x) - x\n",
    "\n",
    "a,b = (-5.0, 5.0) \n",
    "x1 = a; f1 = f(a)\n",
    "x2 = b; f2 =f(x2) \n",
    "if f1*f2 > 0.0: \n",
    "    print(\"No root in this interval.\")\n",
    "else:\n",
    "    root,it = bisect(f,x1,x2) \n",
    "    print (\"The root is:\",root)\n",
    "    print(\"Number of iteration: \",it)"
   ]
  },
  {
   "cell_type": "code",
   "execution_count": 21,
   "metadata": {},
   "outputs": [
    {
     "name": "stdout",
     "output_type": "stream",
     "text": [
      "Root = 0.739567202212256\n",
      "Number of iterations = 17\n"
     ]
    }
   ],
   "source": [
    "#Fixed point iteration: initial guess:x=0, stopping criteria:10^-3\n",
    "\n",
    "from math import cos,pi\n",
    "def g(x):\n",
    "    #cos(x)-x=0 then cos(x)=x\n",
    "    return cos(x)\n",
    "\n",
    "def fixedPoint(x,epsilon=1.0e-3):\n",
    "    i=0\n",
    "    gx=g(x)\n",
    "    if gx==0:\n",
    "        return x,i\n",
    "    while(True):\n",
    "        i=i+1\n",
    "        gx2 = g(gx)\n",
    "        if abs(gx2-gx)<=epsilon:\n",
    "            return gx,i\n",
    "        gx=gx2\n",
    "        \n",
    "root,numiter = fixedPoint(0)\n",
    "print (\"Root =\",root) \n",
    "print(\"Number of iterations =\",numiter)"
   ]
  },
  {
   "cell_type": "code",
   "execution_count": 3,
   "metadata": {
    "scrolled": true
   },
   "outputs": [
    {
     "name": "stdout",
     "output_type": "stream",
     "text": [
      "Root = 0.7394947711319744\n",
      "Number of iterations = 12\n"
     ]
    }
   ],
   "source": [
    "#Fixed point iteration: initial guess:x=pi/4, stopping criteria:10^-3\n",
    "\n",
    "from math import cos,pi\n",
    "def g(x):\n",
    "    #cos(x)-x=0 then cos(x)=x\n",
    "    return cos(x)\n",
    "\n",
    "def fixedPoint(x,epsilon=1.0e-3):\n",
    "    i=0\n",
    "    gx=g(x)\n",
    "    if gx==0:\n",
    "        return x,i\n",
    "    while(True):\n",
    "        i=i+1\n",
    "        gx2 = g(gx)\n",
    "        if abs(gx2-gx)<=epsilon:\n",
    "            return gx,i\n",
    "        gx=gx2\n",
    "        \n",
    "root,numiter = fixedPoint(pi/4)\n",
    "print (\"Root =\",root) \n",
    "print(\"Number of iterations =\",numiter)"
   ]
  },
  {
   "cell_type": "code",
   "execution_count": 23,
   "metadata": {},
   "outputs": [
    {
     "name": "stdout",
     "output_type": "stream",
     "text": [
      "Root = 0.7390851328107476\n",
      "Number of iterations = 53\n"
     ]
    }
   ],
   "source": [
    "#Fixed point iteration: initial guess:x=5, stopping criteria:10^-9\n",
    "\n",
    "from math import cos,pi\n",
    "def g(x):\n",
    "    #cos(x)-x=0 then cos(x)=x\n",
    "    return cos(x)\n",
    "\n",
    "def fixedPoint(x,epsilon=1.0e-9):\n",
    "    i=0\n",
    "    gx=g(x)\n",
    "    if gx==0:\n",
    "        return x,i\n",
    "    while(True):\n",
    "        i=i+1\n",
    "        gx2 = g(gx)\n",
    "        if abs(gx2-gx)<=epsilon:\n",
    "            return gx,i\n",
    "        gx=gx2\n",
    "        \n",
    "root,numiter = fixedPoint(5)\n",
    "print (\"Root =\",root) \n",
    "print(\"Number of iterations =\",numiter)"
   ]
  },
  {
   "cell_type": "code",
   "execution_count": 14,
   "metadata": {},
   "outputs": [
    {
     "name": "stdout",
     "output_type": "stream",
     "text": [
      "Root = 0.739085133385284\n",
      "Number of iterations = 3\n"
     ]
    }
   ],
   "source": [
    "#Newton's Method: initial guess:x=0, stopping criteria:10^-3\n",
    "\n",
    "from math import cos,sin\n",
    "def f(x):\n",
    "    return cos(x)-x\n",
    "def df(x):\n",
    "    return -sin(x)-1\n",
    "def newtonRaphson(x,epsilon=1.0e-3):\n",
    "    for i in range(30):\n",
    "        dx = f(x)/df(x) \n",
    "        x = x - dx \n",
    "        if abs(dx) < epsilon:\n",
    "            return x,i\n",
    "        \n",
    "root,numIter = newtonRaphson(0.0) \n",
    "print (\"Root =\",root) \n",
    "print(\"Number of iterations =\",numIter)"
   ]
  },
  {
   "cell_type": "code",
   "execution_count": 15,
   "metadata": {},
   "outputs": [
    {
     "name": "stdout",
     "output_type": "stream",
     "text": [
      "Root = 0.7390851781060102\n",
      "Number of iterations = 1\n"
     ]
    }
   ],
   "source": [
    "#Newton's Method: initial guess:x=pi/4, stopping criteria:10^-3\n",
    "\n",
    "from math import cos,sin,pi\n",
    "def f(x):\n",
    "    return cos(x)-x\n",
    "def df(x):\n",
    "    return -sin(x)-1\n",
    "def newtonRaphson(x,epsilon=1.0e-3):\n",
    "    for i in range(30):\n",
    "        dx = f(x)/df(x) \n",
    "        x = x - dx \n",
    "        if abs(dx) < epsilon:\n",
    "            return x,i\n",
    "        \n",
    "root,numIter = newtonRaphson(pi/4) \n",
    "print (\"Root =\",root) \n",
    "print(\"Number of iterations =\",numIter)"
   ]
  },
  {
   "cell_type": "code",
   "execution_count": 25,
   "metadata": {},
   "outputs": [
    {
     "name": "stdout",
     "output_type": "stream",
     "text": [
      "Root = 0.7390851332151607\n",
      "Number of iterations = 21\n"
     ]
    }
   ],
   "source": [
    "#Newton's Method: initial guess:x=5, stopping criteria:10^-9\n",
    "\n",
    "from math import cos,sin\n",
    "def f(x):\n",
    "    return cos(x)-x\n",
    "def df(x):\n",
    "    return -sin(x)-1\n",
    "def newtonRaphson(x,epsilon=1.0e-9):\n",
    "    for i in range(30):\n",
    "        dx = f(x)/df(x) \n",
    "        x = x - dx \n",
    "        if abs(dx) < epsilon:\n",
    "            return x,i\n",
    "        \n",
    "root,numIter = newtonRaphson(5) \n",
    "print (\"Root =\",root) \n",
    "print(\"Number of iterations =\",numIter)"
   ]
  },
  {
   "cell_type": "code",
   "execution_count": 26,
   "metadata": {},
   "outputs": [
    {
     "name": "stdout",
     "output_type": "stream",
     "text": [
      "Root = 0.7390851332151607\n",
      "Number of iterations = 5\n"
     ]
    }
   ],
   "source": [
    "#Secant Method: initial guess:x=0 and x=5, stopping criteria:10^-3\n",
    "from math import cos,sin,ceil\n",
    "def f(x):\n",
    "    return cos(x)-x\n",
    "def secant(x0,x1,epsilon=1.0e-3):\n",
    "    for i in range(30):\n",
    "        fx0 = f(x0);fx1 = f(x1)\n",
    "        if (fx1-fx0!=0):\n",
    "            div = (x1-x0)/(fx1-fx0)\n",
    "            x2 = x0 - fx0*div \n",
    "            fx2=f(x2)\n",
    "            if (x2-x1)<=epsilon and ceil(fx2)==0.0:\n",
    "                return x2,x1,i\n",
    "            else:\n",
    "                x0=x1\n",
    "                x1=x2      \n",
    "        \n",
    "root1,root2,numiter = secant(0.0,1.0)\n",
    "print (\"Root =\",root1) \n",
    "print(\"Number of iterations =\",numiter)"
   ]
  },
  {
   "cell_type": "code",
   "execution_count": 27,
   "metadata": {},
   "outputs": [
    {
     "name": "stdout",
     "output_type": "stream",
     "text": [
      "Root = 0.7390851332151607\n",
      "Number of iterations = 4\n"
     ]
    }
   ],
   "source": [
    "#Secant Method: initial guess:x=0 and x=pi/4, stopping criteria:10^-3\n",
    "from math import cos,sin,ceil,pi\n",
    "def f(x):\n",
    "    return cos(x)-x\n",
    "def secant(x0,x1,epsilon=1.0e-9):\n",
    "    for i in range(30):\n",
    "        fx0 = f(x0);fx1 = f(x1)\n",
    "        if (fx1-fx0!=0):\n",
    "            div = (x1-x0)/(fx1-fx0)\n",
    "            x2 = x0 - fx0*div \n",
    "            fx2=f(x2)\n",
    "            if (x2-x1)<=epsilon and ceil(fx2)==0.0:\n",
    "                return x2,x1,i\n",
    "            else:\n",
    "                x0=x1\n",
    "                x1=x2      \n",
    "        \n",
    "root1,root2,numiter = secant(0.0,pi/4)\n",
    "print (\"Root =\",root1) \n",
    "print(\"Number of iterations =\",numiter)"
   ]
  },
  {
   "cell_type": "code",
   "execution_count": 28,
   "metadata": {},
   "outputs": [
    {
     "name": "stdout",
     "output_type": "stream",
     "text": [
      "Root = 0.7390851332151607\n",
      "Number of iterations = 6\n"
     ]
    }
   ],
   "source": [
    "#Secant Method: initial guess:x=-5 and x=5, stopping criteria:10^-9\n",
    "from math import cos,sin,ceil\n",
    "def f(x):\n",
    "    return cos(x)-x\n",
    "def secant(x0,x1,epsilon=1.0e-9):\n",
    "    for i in range(30):\n",
    "        fx0 = f(x0);fx1 = f(x1)\n",
    "        if (fx1-fx0!=0):\n",
    "            div = (x1-x0)/(fx1-fx0)\n",
    "            x2 = x0 - fx0*div \n",
    "            fx2=f(x2)\n",
    "            if (x2-x1)<=epsilon and ceil(fx2)==0.0:\n",
    "                return x2,x1,i\n",
    "            else:\n",
    "                x0=x1\n",
    "                x1=x2      \n",
    "        \n",
    "root1,root2,numiter = secant(-5.0,5.0)\n",
    "print (\"Root =\",root1) \n",
    "print(\"Number of iterations =\",numiter)"
   ]
  },
  {
   "cell_type": "code",
   "execution_count": null,
   "metadata": {},
   "outputs": [],
   "source": []
  }
 ],
 "metadata": {
  "kernelspec": {
   "display_name": "Python 3",
   "language": "python",
   "name": "python3"
  },
  "language_info": {
   "codemirror_mode": {
    "name": "ipython",
    "version": 3
   },
   "file_extension": ".py",
   "mimetype": "text/x-python",
   "name": "python",
   "nbconvert_exporter": "python",
   "pygments_lexer": "ipython3",
   "version": "3.8.2"
  }
 },
 "nbformat": 4,
 "nbformat_minor": 4
}
