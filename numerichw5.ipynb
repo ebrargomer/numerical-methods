{
 "cells": [
  {
   "cell_type": "code",
   "execution_count": 19,
   "metadata": {},
   "outputs": [
    {
     "data": {
      "image/png": "[encoded data removed]",
      "text/plain": [
       "<Figure size 432x288 with 1 Axes>"
      ]
     },
     "metadata": {
      "needs_background": "light"
     },
     "output_type": "display_data"
    }
   ],
   "source": [
    "#%matplotlib notebook\n",
    "import matplotlib.pyplot as plt \n",
    "import numpy as np\n",
    "import math\n",
    "\n",
    "def calculate_f(h=0):\n",
    "    if(h!=0):\n",
    "        return math.tan((math.pi)/4 + h)\n",
    "    else:\n",
    "        return math.tan((math.pi)/4)\n",
    "\n",
    "def second_order(num):\n",
    "    f=calculate_f()\n",
    "    s=2*calculate_f(num)\n",
    "    l=calculate_f(2*num)\n",
    "    return (f-s+l)/(num*num)\n",
    "\n",
    "x = np.array([1e-1,1e-2,1e-3,1e-4,1e-5,1e-6,1e-7,1e-8,1e-9,1e-10] ) \n",
    "y = np.array([second_order(1e-1),second_order(1e-2),second_order(1e-3),second_order(1e-4),second_order(1e-5),second_order(1e-6),second_order(1e-7),second_order(1e-8),second_order(1e-9),second_order(1e-10)] )\n",
    "z=np.array([calculate_f()/(1e-1*1e-1)*6,calculate_f()/(1e-2*1e-2)*6,calculate_f()/(1e-3*1e-3)*6,calculate_f()/(1e-4*1e-4)*6,calculate_f()/(1e-5*1e-5)*6,calculate_f()/(1e-6*1e-6)*6,calculate_f()/(1e-7*1e-7)*6,calculate_f()/(1e-8*1e-8)*6,calculate_f()/(1e-9*1e-9)*6,calculate_f()/(1e-10*1e-10)*6])\n",
    "\n",
    "plt.plot(x, 0-y, 'b',x,z,'r--',markersize=12) \n",
    "\n",
    "plt.xlabel('h') \n",
    "plt.ylabel('error') \n",
    "plt.show() "
   ]
  },
  {
   "cell_type": "code",
   "execution_count": null,
   "metadata": {},
   "outputs": [],
   "source": []
  },
  {
   "cell_type": "code",
   "execution_count": null,
   "metadata": {},
   "outputs": [],
   "source": []
  },
  {
   "cell_type": "code",
   "execution_count": null,
   "metadata": {},
   "outputs": [],
   "source": []
  }
 ],
 "metadata": {
  "kernelspec": {
   "display_name": "Python 3",
   "language": "python",
   "name": "python3"
  },
  "language_info": {
   "codemirror_mode": {
    "name": "ipython",
    "version": 3
   },
   "file_extension": ".py",
   "mimetype": "text/x-python",
   "name": "python",
   "nbconvert_exporter": "python",
   "pygments_lexer": "ipython3",
   "version": "3.8.2"
  }
 },
 "nbformat": 4,
 "nbformat_minor": 4
}
